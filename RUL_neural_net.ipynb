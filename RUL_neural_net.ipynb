{
 "cells": [
  {
   "cell_type": "code",
   "execution_count": 1,
   "id": "792cc27e",
   "metadata": {},
   "outputs": [],
   "source": [
    "import pandas as pd\n",
    "import numpy as np\n",
    "import matplotlib.pyplot as plt\n",
    "from sklearn.preprocessing import StandardScaler\n",
    "from sklearn.metrics import mean_squared_error\n",
    "import torch\n",
    "import torch.nn as nn\n",
    "import torch.optim as optim\n",
    "from torch.utils.data import Dataset, DataLoader\n",
    "\n",
    "device = torch.device(\"cuda\" if torch.cuda.is_available() else \"cpu\")"
   ]
  },
  {
   "cell_type": "code",
   "execution_count": 2,
   "id": "efcc25ea",
   "metadata": {},
   "outputs": [
    {
     "name": "stdout",
     "output_type": "stream",
     "text": [
      "Processed train_FD001.txt, number of rows: 20631\n",
      "Processed train_FD002.txt, number of rows: 53759\n",
      "Processed train_FD003.txt, number of rows: 24720\n",
      "Processed train_FD004.txt, number of rows: 61249\n"
     ]
    }
   ],
   "source": [
    "columns = ['unit_number', 'time_in_cycles', 'setting_1', 'setting_2', 'TRA', 'T2', 'T24', 'T30', 'T50', 'P2', 'P15', 'P30', 'Nf',\n",
    "           'Nc', 'epr', 'Ps30', 'phi', 'NRf', 'NRc', 'BPR', 'farB', 'htBleed', 'Nf_dmd', 'PCNfR_dmd', 'W31', 'W32']\n",
    "\n",
    "train_data_processed = []\n",
    "for idx in range(1, 5):\n",
    "    train_data = pd.read_csv(rf\"/Users/hemant/Developer/Code/rul-prediction/CMaps/train_FD00{idx}.txt\", sep=\" \", header=None)\n",
    "    train_data.drop(columns=[26, 27], inplace=True)  #Drop unnamed/NaN columns\n",
    "    train_data.columns = columns\n",
    "    train_data.drop(columns=['Nf_dmd', 'PCNfR_dmd', 'P2', 'T2', 'TRA', 'farB', 'epr'], inplace=True)  #irrelevant features\n",
    "    \n",
    "    # Calculate normalized 'used life fraction'\n",
    "    train_data['RUL'] = train_data['time_in_cycles'] / train_data.groupby('unit_number')['time_in_cycles'].transform('max')\n",
    "    \n",
    "    train_data.drop(columns=['unit_number', 'setting_1', 'setting_2'], inplace=True)  #columns not contributing to prediction\n",
    "    train_data_processed.append(train_data)\n",
    "    print(f\"Processed train_FD00{idx}.txt, number of rows: {train_data.shape[0]}\")\n",
    "\n",
    "train_data_processed = pd.concat(train_data_processed, ignore_index=True)"
   ]
  },
  {
   "cell_type": "code",
   "execution_count": 3,
   "id": "afb140bc",
   "metadata": {},
   "outputs": [
    {
     "name": "stdout",
     "output_type": "stream",
     "text": [
      "Processed test_FD001.txt, number of rows: 13096\n",
      "Processed test_FD002.txt, number of rows: 33991\n",
      "Processed test_FD003.txt, number of rows: 16596\n",
      "Processed test_FD004.txt, number of rows: 41214\n"
     ]
    }
   ],
   "source": [
    "# Process test data from all 4 subsets (FD001-FD004)\n",
    "test_data_processed = []\n",
    "for idx in range(1, 5):\n",
    "    test_data_rul = pd.read_csv(rf\"/Users/hemant/Developer/Code/rul-prediction/CMaps/RUL_FD00{idx}.txt\", sep=\" \", header=None)\n",
    "    test_data = pd.read_csv(rf\"/Users/hemant/Developer/Code/rul-prediction/CMaps/test_FD00{idx}.txt\", sep=\" \", header=None)\n",
    "    \n",
    "    test_data.drop(columns=[26, 27], inplace=True)\n",
    "    test_data.columns = columns\n",
    "    test_data.drop(columns=['Nf_dmd', 'PCNfR_dmd', 'P2', 'T2', 'TRA', 'farB', 'epr'], inplace=True)\n",
    "    \n",
    "    # Calculate End-of-Life (EOL) by repeating true RUL for each unit's rows\n",
    "    eol = []\n",
    "    for un in test_data['unit_number'].unique():\n",
    "        temp_data = test_data[test_data['unit_number'] == un]\n",
    "        eol_temp = test_data_rul.iloc[un-1].values[0]\n",
    "        eol_temp_list = [eol_temp for i in range(len(temp_data))]\n",
    "        eol.extend(eol_temp_list)\n",
    "    \n",
    "    test_data['RUL'] = test_data['time_in_cycles'].values / (test_data.groupby('unit_number')['time_in_cycles'].transform('max').values + eol)\n",
    "    test_data.drop(columns=['unit_number', 'setting_1', 'setting_2'], inplace=True)\n",
    "    test_data_processed.append(test_data)\n",
    "    print(f\"Processed test_FD00{idx}.txt, number of rows: {test_data.shape[0]}\")\n",
    "\n",
    "# Concatenate all test subsets\n",
    "test_data_processed = pd.concat(test_data_processed, ignore_index=True)"
   ]
  },
  {
   "cell_type": "code",
   "execution_count": 4,
   "id": "43ffe9d7",
   "metadata": {},
   "outputs": [],
   "source": [
    "class RULDataset(Dataset):\n",
    "    def __init__(self, dataframe):\n",
    "        self.X = dataframe.drop(columns=[\"RUL\"]).values.astype(np.float32)\n",
    "        self.y = dataframe[\"RUL\"].values.astype(np.float32).reshape(-1, 1)\n",
    "\n",
    "    def __len__(self):\n",
    "        return len(self.X)\n",
    "\n",
    "    def __getitem__(self, idx):\n",
    "        return torch.tensor(self.X[idx]), torch.tensor(self.y[idx])"
   ]
  },
  {
   "cell_type": "code",
   "execution_count": 5,
   "id": "ec93ba7a",
   "metadata": {},
   "outputs": [],
   "source": [
    "# Multi Layered Perceptron\n",
    "class RULModel(nn.Module):\n",
    "    def __init__(self, input_dim):\n",
    "        super(RULModel, self).__init__()\n",
    "        self.model = nn.Sequential(\n",
    "            nn.Linear(input_dim, 256),\n",
    "            nn.LeakyReLU(),\n",
    "            nn.Linear(256, 256),\n",
    "            nn.LeakyReLU(),\n",
    "            nn.Linear(256, 256),\n",
    "            nn.LeakyReLU(),\n",
    "            nn.Linear(256, 1)\n",
    "        )\n",
    "\n",
    "    def forward(self, x):\n",
    "        return self.model(x)"
   ]
  },
  {
   "cell_type": "code",
   "execution_count": 6,
   "id": "6f14e308",
   "metadata": {},
   "outputs": [
    {
     "name": "stderr",
     "output_type": "stream",
     "text": [
      "/var/folders/b9/t70zfk1x08s8zpstmgtlp03c0000gn/T/ipykernel_95073/2896835289.py:5: FutureWarning: Setting an item of incompatible dtype is deprecated and will raise in a future error of pandas. Value '[-1.46438155 -1.45241094 -1.44044032 ...  1.55221385  1.56418447\n",
      "  1.57615508]' has dtype incompatible with int64, please explicitly cast to a compatible dtype first.\n",
      "  train_data_processed.loc[:, features.columns] = scaled_features\n",
      "/var/folders/b9/t70zfk1x08s8zpstmgtlp03c0000gn/T/ipykernel_95073/2896835289.py:5: FutureWarning: Setting an item of incompatible dtype is deprecated and will raise in a future error of pandas. Value '[ 1.00902172  1.00902172  0.94454996 ...  1.10572936 -0.76395171\n",
      " -0.89289524]' has dtype incompatible with int64, please explicitly cast to a compatible dtype first.\n",
      "  train_data_processed.loc[:, features.columns] = scaled_features\n",
      "/var/folders/b9/t70zfk1x08s8zpstmgtlp03c0000gn/T/ipykernel_95073/2896835289.py:10: FutureWarning: Setting an item of incompatible dtype is deprecated and will raise in a future error of pandas. Value '[-1.46438155 -1.45241094 -1.44044032 ...  1.86344988  1.8754205\n",
      "  1.88739112]' has dtype incompatible with int64, please explicitly cast to a compatible dtype first.\n",
      "  test_data_processed.loc[:, test_features.columns] = test_scaled_features\n",
      "/var/folders/b9/t70zfk1x08s8zpstmgtlp03c0000gn/T/ipykernel_95073/2896835289.py:10: FutureWarning: Setting an item of incompatible dtype is deprecated and will raise in a future error of pandas. Value '[ 1.00902172  1.0412576   1.0412576  ... -0.79618759  0.17088882\n",
      " -0.82842348]' has dtype incompatible with int64, please explicitly cast to a compatible dtype first.\n",
      "  test_data_processed.loc[:, test_features.columns] = test_scaled_features\n"
     ]
    }
   ],
   "source": [
    "# Normalize the features\n",
    "scaler = StandardScaler()\n",
    "features = train_data_processed.drop(columns=['RUL'])\n",
    "scaled_features = scaler.fit_transform(features)\n",
    "train_data_processed.loc[:, features.columns] = scaled_features\n",
    "\n",
    "# Normalize test data using same scaler\n",
    "test_features = test_data_processed.drop(columns=['RUL'])\n",
    "test_scaled_features = scaler.transform(test_features)\n",
    "test_data_processed.loc[:, test_features.columns] = test_scaled_features"
   ]
  },
  {
   "cell_type": "code",
   "execution_count": 7,
   "id": "d7c54798",
   "metadata": {},
   "outputs": [],
   "source": [
    "dataset = RULDataset(train_data_processed)\n",
    "dataloader = DataLoader(dataset, batch_size=32, shuffle=True)\n",
    "\n",
    "test_dataset = RULDataset(test_data_processed)\n",
    "test_loader = DataLoader(test_dataset, batch_size=32, shuffle=False)\n",
    "\n",
    "# Model instantiation\n",
    "input_dim = train_data_processed.shape[1] - 1  # Number of features (exclude RUL)\n",
    "model = RULModel(input_dim).to(device)\n",
    "\n",
    "# Loss and optimizer\n",
    "criterion = nn.MSELoss()\n",
    "optimizer = optim.AdamW(model.parameters(), lr=1e-4)"
   ]
  },
  {
   "cell_type": "code",
   "execution_count": 8,
   "id": "c3939fc6",
   "metadata": {},
   "outputs": [],
   "source": [
    "# Function to evaluate model on test data\n",
    "def evaluate_model(model, test_loader):\n",
    "    model.eval()  # Switch to evaluation mode\n",
    "    all_preds = []\n",
    "    all_targets = []\n",
    "\n",
    "    with torch.no_grad():\n",
    "        for X_batch, y_batch in test_loader:\n",
    "            X_batch = X_batch.to(device)\n",
    "            outputs = model(X_batch)\n",
    "            all_preds.append(outputs.cpu().numpy())\n",
    "            all_targets.append(y_batch.numpy())\n",
    "\n",
    "    # Compute MSE\n",
    "    preds = np.vstack(all_preds)\n",
    "    targets = np.vstack(all_targets)\n",
    "    mse = mean_squared_error(targets, preds)\n",
    "    return mse"
   ]
  },
  {
   "cell_type": "code",
   "execution_count": 9,
   "id": "a37fb63f",
   "metadata": {},
   "outputs": [
    {
     "name": "stdout",
     "output_type": "stream",
     "text": [
      "Epoch [1/20], Loss: 0.0081, Test MSE: 0.0061\n",
      "Epoch [2/20], Loss: 0.0052, Test MSE: 0.0055\n",
      "Epoch [3/20], Loss: 0.0051, Test MSE: 0.0057\n",
      "Epoch [4/20], Loss: 0.0049, Test MSE: 0.0051\n",
      "Epoch [5/20], Loss: 0.0048, Test MSE: 0.0055\n",
      "Epoch [6/20], Loss: 0.0048, Test MSE: 0.0051\n",
      "Epoch [7/20], Loss: 0.0047, Test MSE: 0.0052\n",
      "Epoch [8/20], Loss: 0.0046, Test MSE: 0.0051\n",
      "Epoch [9/20], Loss: 0.0046, Test MSE: 0.0052\n",
      "Epoch [10/20], Loss: 0.0046, Test MSE: 0.0051\n",
      "Epoch [11/20], Loss: 0.0046, Test MSE: 0.0051\n",
      "Epoch [12/20], Loss: 0.0046, Test MSE: 0.0050\n",
      "Epoch [13/20], Loss: 0.0045, Test MSE: 0.0053\n",
      "Epoch [14/20], Loss: 0.0045, Test MSE: 0.0051\n",
      "Epoch [15/20], Loss: 0.0045, Test MSE: 0.0050\n",
      "Epoch [16/20], Loss: 0.0045, Test MSE: 0.0055\n",
      "Epoch [17/20], Loss: 0.0045, Test MSE: 0.0051\n",
      "Epoch [18/20], Loss: 0.0045, Test MSE: 0.0051\n",
      "Epoch [19/20], Loss: 0.0044, Test MSE: 0.0053\n",
      "Epoch [20/20], Loss: 0.0044, Test MSE: 0.0054\n"
     ]
    }
   ],
   "source": [
    "# Training loop with best model saving\n",
    "best_mse = float(\"inf\")\n",
    "epochs = 20\n",
    "for epoch in range(epochs):\n",
    "    model.train()  # Switch to training mode\n",
    "    running_loss = 0.0\n",
    "    for X_batch, y_batch in dataloader:\n",
    "        X_batch, y_batch = X_batch.to(device), y_batch.to(device)\n",
    "        optimizer.zero_grad()  # Clear old gradients\n",
    "        outputs = model(X_batch)  # Forward pass\n",
    "        loss = criterion(outputs, y_batch)\n",
    "        loss.backward()\n",
    "        optimizer.step()\n",
    "        running_loss += loss.item()  # Accumulate loss\n",
    "\n",
    "    val_mse = evaluate_model(model, test_loader)  # Evaluate on test\n",
    "    if val_mse < best_mse:\n",
    "        best_mse = val_mse\n",
    "        torch.save(model.state_dict(), \"rul_ann_model.pth\")\n",
    "\n",
    "    print(f\"Epoch [{epoch+1}/{epochs}], Loss: {running_loss/len(dataloader):.4f}, Test MSE: {val_mse:.4f}\")"
   ]
  },
  {
   "cell_type": "code",
   "execution_count": 10,
   "id": "55bb40ab",
   "metadata": {},
   "outputs": [],
   "source": [
    "idx=1\n",
    "\n",
    "test_data_rul = pd.read_csv(rf\"/Users/hemant/Developer/Code/rul-prediction/CMaps/RUL_FD00{idx}.txt\", sep=\" \", header=None)\n",
    "test_data = pd.read_csv(rf\"/Users/hemant/Developer/Code/rul-prediction/CMaps/test_FD00{idx}.txt\", sep=\" \", header=None)\n",
    "\n",
    "\n",
    "test_data.drop(columns=[26,27],inplace=True)\n",
    "columns = ['unit_number','time_in_cycles','setting_1','setting_2','TRA','T2','T24','T30','T50','P2','P15','P30','Nf',\n",
    "        'Nc','epr','Ps30','phi','NRf','NRc','BPR','farB','htBleed','Nf_dmd','PCNfR_dmd','W31','W32' ]\n",
    "\n",
    "test_data.columns = columns\n",
    "test_data.drop(columns=['Nf_dmd','PCNfR_dmd','P2','T2','TRA','farB','epr'],inplace=True)\n",
    "\n",
    "eol = []\n",
    "for un in test_data['unit_number'].unique():\n",
    "    temp_data = test_data[test_data['unit_number'] == un]\n",
    "    eol_temp = test_data_rul.iloc[un-1].values[0]\n",
    "    eol_temp_list = [eol_temp for i in range(len(temp_data))]\n",
    "\n",
    "    eol.extend(eol_temp_list)\n",
    "\n",
    "\n",
    "test_data['RUL'] = test_data['time_in_cycles'].values / (test_data.groupby('unit_number')['time_in_cycles'].transform('max').values + eol)"
   ]
  },
  {
   "cell_type": "code",
   "execution_count": 11,
   "id": "07b93157",
   "metadata": {},
   "outputs": [
    {
     "data": {
      "image/png": "[encoded data removed]",
      "text/plain": [
       "<Figure size 800x500 with 1 Axes>"
      ]
     },
     "metadata": {},
     "output_type": "display_data"
    }
   ],
   "source": [
    "unit_id = 9  # Sample unit number\n",
    "unit_data = test_data[test_data['unit_number'] == unit_id]\n",
    "true_rul = unit_data['RUL'].values\n",
    "\n",
    "\n",
    "X_batch = scaler.transform(unit_data.drop(columns=['unit_number','setting_1','setting_2','RUL']))\n",
    "X_batch = torch.tensor(X_batch).float().to(device)\n",
    "model.eval()\n",
    "with torch.no_grad():\n",
    "    pred_rul = model(X_batch).cpu().numpy().flatten()\n",
    "\n",
    "plt.figure(figsize=(8, 5))\n",
    "plt.plot(unit_data['time_in_cycles'], 1-true_rul, label='True RUL', marker='o')\n",
    "plt.plot(unit_data['time_in_cycles'], 1-pred_rul, label='Predicted RUL', marker='s')\n",
    "plt.xlabel('Time in Cycles')\n",
    "plt.ylabel('Remaining Useful Life (RUL)')\n",
    "plt.title(f'Predicted vs True RUL for Unit {unit_id}')\n",
    "plt.legend()\n",
    "plt.show()"
   ]
  },
  {
   "cell_type": "code",
   "execution_count": null,
   "id": "5f69fa16",
   "metadata": {},
   "outputs": [],
   "source": []
  }
 ],
 "metadata": {
  "kernelspec": {
   "display_name": "Python 3",
   "language": "python",
   "name": "python3"
  },
  "language_info": {
   "codemirror_mode": {
    "name": "ipython",
    "version": 3
   },
   "file_extension": ".py",
   "mimetype": "text/x-python",
   "name": "python",
   "nbconvert_exporter": "python",
   "pygments_lexer": "ipython3",
   "version": "3.9.6"
  }
 },
 "nbformat": 4,
 "nbformat_minor": 5
}
